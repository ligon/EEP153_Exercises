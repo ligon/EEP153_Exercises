{
 "cells": [
  {
   "cell_type": "markdown",
   "metadata": {},
   "source": [
    "## [EEP153] Week 2\n",
    "\n"
   ]
  },
  {
   "cell_type": "markdown",
   "metadata": {},
   "source": [
    "Some programming learning goals for week 2:\n",
    "\n",
    "1.  Writing `pandas` dataframes to a Google Spreadsheet using\n",
    "    `gpsread-dataframe`\n",
    "2.  Docstrings, documentation, comments\n",
    "3.  Inspecting objects\n",
    "4.  Interpreting exceptions\n",
    "5.  Reading tracebacks\n",
    "\n"
   ]
  },
  {
   "cell_type": "markdown",
   "metadata": {},
   "source": [
    "### Writing a =pandas.DataFrame= to Google Spreadsheet\n",
    "\n"
   ]
  },
  {
   "cell_type": "markdown",
   "metadata": {},
   "source": [
    "In last week&rsquo;s exercise, we explored the basic functionality of\n",
    "`gspread` to read and write spreadsheet data using Python. Writing\n",
    "cell data one by one, however, is not the most efficient way to\n",
    "write data especially if you have a dataframe with thousands of\n",
    "observations. Here, we&rsquo;ll extend our knowledge from last week to\n",
    "write data directly from a dataframe into a spreadsheet.\n",
    "\n",
    "In this cell, we setup our notebook to use the packages we&rsquo;ll need\n",
    "for the demo. You may need to uncomment the first two lines\n",
    "depending on if you encounter a `ModuleNotFoundError` or\n",
    "`NameError`.\n",
    "\n"
   ]
  },
  {
   "cell_type": "code",
   "execution_count": 1,
   "metadata": {},
   "outputs": [],
   "source": [
    "#!pip install wbdata\n",
    "#!pip install gspread-pandas\n",
    "import wbdata as wb\n",
    "import pandas as pd\n",
    "import gspread_pandas as gsp"
   ]
  },
  {
   "cell_type": "markdown",
   "metadata": {},
   "source": [
    "Remember how we decrypted credential keys last week? We&rsquo;re going to\n",
    "   do the same thing here using the team-specific keys shared with\n",
    "   your group on Piazza last week. Look in the\n",
    "   `EEP153_Materials/Project 1` respository on `datahub` to get the\n",
    "   file name of the `.json.gpg` credentials file that corresponds to\n",
    "   your team. Then look at Piazza for your team-specific passphrase.\n",
    "\n"
   ]
  },
  {
   "cell_type": "code",
   "execution_count": 1,
   "metadata": {},
   "outputs": [],
   "source": [
    "# Replace PASSPHRASE with the secret phrase we shared with your team on\n",
    "# Piazza. Replace FILENAME with the filename (without the extension)\n",
    "# of the encrypted credential file.\n",
    "\n",
    "!gpg -d --batch --passphrase \"PASSPHRASE\" ./EEP153_Materials/Project1/FILENAME.json.gpg > ./EEP153_Exercises/Project1/FILENAME.json"
   ]
  },
  {
   "cell_type": "markdown",
   "metadata": {},
   "source": [
    "Now, we have the credentials that will allow you to access your\n",
    "   team-specific Google Drive. It is with these credential that you\n",
    "   will create and share spreadsheet data with your team. In this next\n",
    "   cell, we set up our `gspread_pandas` client with our credentials.\n",
    "\n"
   ]
  },
  {
   "cell_type": "code",
   "execution_count": 1,
   "metadata": {},
   "outputs": [],
   "source": [
    "# Replace FILENAME with the filename of your decrypted .json file.\n",
    "\n",
    "user_config = gsp.conf.get_config(conf_dir='./',file_name='FILENAME')\n",
    "user_creds = gsp.conf.get_creds(config=user_config)\n",
    "client = gsp.Client(creds=user_creds)"
   ]
  },
  {
   "cell_type": "markdown",
   "metadata": {},
   "source": [
    "Now we&rsquo;re in your team drive, except you can&rsquo;t really see\n",
    "   it. We can explore what we&rsquo;re working with without your\n",
    "   browser. `gspread-pandas` provides a series of functions that will\n",
    "   allow us to do exactly this.\n",
    "\n"
   ]
  },
  {
   "cell_type": "code",
   "execution_count": 1,
   "metadata": {},
   "outputs": [],
   "source": [
    "# Returns all spreadsheet files you have access to.\n",
    "client.list_spreadsheet_files()\n",
    "\n",
    "# Returns all available folders or directories you can access.\n",
    "#client.directories\n",
    "\n",
    "# Returns information for the root directory.\n",
    "#client.root\n",
    "\n",
    "# Returns the email you can share spreadsheets to.\n",
    "#client.email"
   ]
  },
  {
   "cell_type": "markdown",
   "metadata": {},
   "source": [
    "Presumably, your Drive is empty at the moment. Before we start\n",
    "   creating sheets into the main directory, let&rsquo;s create a folder to\n",
    "   provide some structure.\n",
    "\n"
   ]
  },
  {
   "cell_type": "code",
   "execution_count": 1,
   "metadata": {},
   "outputs": [],
   "source": [
    "# You can replace \"W2 Example\" with whatever file name you like.\n",
    "client.create_folder('W2 Example')"
   ]
  },
  {
   "cell_type": "markdown",
   "metadata": {},
   "source": [
    "You&rsquo;ll notice that a dictionary was returned. It confirms the\n",
    "   pathway of the folder and a unique ID you can refer to at any\n",
    "   time. If you were to try copy and pasting this ID and access this\n",
    "   folder on your browser, you&rsquo;ll find that you won&rsquo;t have access!\n",
    "   We&rsquo;ll cover permissions later.\n",
    "\n",
    "Now, we&rsquo;ll create a spreadsheet and move it to the new\n",
    "folder. This spreadsheet will serve as our container for our\n",
    "dataframe we&rsquo;ll create.\n",
    "\n"
   ]
  },
  {
   "cell_type": "code",
   "execution_count": 1,
   "metadata": {},
   "outputs": [],
   "source": [
    "# If you changed your folder path or name in the previous cell, make sure to \n",
    "# change it here too.\n",
    "spread = gsp.Spread('My wbdata', create_spread=True,creds=user_creds)\n",
    "spread.move('W2 Example')\n",
    "\n",
    "# To confirm we've successfully moved it over, this next line should show you\n",
    "# that 'My wbdata' is in the 'W2 Example' folder.\n",
    "client.find_spreadsheet_files_in_folders('W2 Example')"
   ]
  },
  {
   "cell_type": "markdown",
   "metadata": {},
   "source": [
    "Let&rsquo;s create a `Pandas` dataframe to populate `My\n",
    "   wbdata`. Hopefully this next cell looks a little familiar.\n",
    "\n"
   ]
  },
  {
   "cell_type": "code",
   "execution_count": 1,
   "metadata": {},
   "outputs": [],
   "source": [
    "variable_labels = {\"SP.POP.TOTL\":\"Total Population\",\n",
    "                  \"SP.POP.TOTL.FE.IN\":\"Total Female Population\",\n",
    "                  \"SP.POP.TOTL.MA.IN\":\"Total Male Population\"}\n",
    "chn = wb.get_dataframe(variable_labels, country=\"CHN\")\n",
    "chn = chn.iloc[1:,]\n",
    "chn.head()"
   ]
  },
  {
   "cell_type": "markdown",
   "metadata": {},
   "source": [
    "Moving it to our spreadsheet is a one-liner. Run the next line and\n",
    "   you&rsquo;re done!\n",
    "\n"
   ]
  },
  {
   "cell_type": "code",
   "execution_count": 1,
   "metadata": {},
   "outputs": [],
   "source": [
    "spread.df_to_sheet(chn)"
   ]
  },
  {
   "cell_type": "markdown",
   "metadata": {},
   "source": [
    "If you don&rsquo;t believe it, run the next line to give yourself access\n",
    "   to see it in your browser. Then, check your email.\n",
    "\n"
   ]
  },
  {
   "cell_type": "code",
   "execution_count": 1,
   "metadata": {},
   "outputs": [],
   "source": [
    "spread.add_permission('YOUREMAIL|reader')"
   ]
  },
  {
   "cell_type": "markdown",
   "metadata": {},
   "source": [
    "You can now easily take this Google Spreadsheet data and put it\n",
    "   into a `Pandas` dataframe for manipulation in python in a similar\n",
    "   fashion.\n",
    "\n"
   ]
  },
  {
   "cell_type": "code",
   "execution_count": 1,
   "metadata": {},
   "outputs": [],
   "source": [
    "chn2 = spread.sheet_to_df()\n",
    "chn2.head()"
   ]
  },
  {
   "cell_type": "markdown",
   "metadata": {},
   "source": [
    "This was a high-level introduction to `gspread-pandas`. For more\n",
    "   information and functions that is provided in this package, check\n",
    "   out the documentation here:\n",
    "   [https://gspread-pandas.readthedocs.io/en/latest/getting_started.html](https://gspread-pandas.readthedocs.io/en/latest/getting_started.html).\n",
    "\n"
   ]
  },
  {
   "cell_type": "markdown",
   "metadata": {},
   "source": [
    "### Docstrings, documentation, and comments\n",
    "\n"
   ]
  },
  {
   "cell_type": "markdown",
   "metadata": {},
   "source": [
    "Often times, you will encounter code blocks that leverage packages\n",
    "   and functions you have never seen before. In your attempt to\n",
    "   understand what the code is doing, you might find yourself going back\n",
    "   and forth between documentation pages and your Jupyter notebook.\n",
    "\n",
    "This section aims to share best practices when working through\n",
    "novel code blocks. You will be able to use and create docstrings,\n",
    "breakdown documentation, and strategically leave comments to make\n",
    "your code more readable.\n",
    "\n"
   ]
  },
  {
   "cell_type": "code",
   "execution_count": 1,
   "metadata": {},
   "outputs": [],
   "source": [
    "# Uncomment the next two lines if you encounter an error. We will talk about\n",
    "# this later in the exercise. \n",
    "\n",
    "#!pip install geopandas\n",
    "#!pip install descartes\n",
    "import geopandas\n",
    "import matplotlib.pyplot as plt\n",
    "\n",
    "def f(a, b, c):\n",
    "    gdf = geopandas.GeoDataFrame(a, geometry=geopandas.points_from_xy(a['u'], a['v']))\n",
    "    world = geopandas.read_file(geopandas.datasets.get_path('naturalearth_lowres'))\n",
    "    ax = world[world.name == b].plot(color='white', edgecolor='gray')\n",
    "    gdf.plot(ax=ax, color='red',marker='o')\n",
    "\n",
    "    for i, j, k in zip(df['u'], df['v'], df['t']):\n",
    "        ax.annotate(k, xy=(i,j),xytext=(-16,8), textcoords=\"offset pixels\")\n",
    "\n",
    "    plt.title(c)\n",
    "    plt.xlabel('x')\n",
    "    plt.ylabel('y')\n",
    "    plt.show()"
   ]
  },
  {
   "cell_type": "markdown",
   "metadata": {},
   "source": [
    "In the cell above, we are introduced to a new function `f` that calls a\n",
    "   series of functions from `geopandas`. The author didn&rsquo;t do a great\n",
    "   job at picking descriptive labels for the parameters used in this\n",
    "   function. Normally, we could decipher enough to experiment with the\n",
    "   function, but here we don&rsquo;t have much to go off of. Let&rsquo;s pick\n",
    "   apart the function line by line to figure out what exactly is going on.\n",
    "\n"
   ]
  },
  {
   "cell_type": "code",
   "execution_count": 1,
   "metadata": {},
   "outputs": [],
   "source": [
    "# Cick anywhere within the string \"GeoDataFrame\" and press SHIFT + TAB\n",
    "# Press the + in the upper right corner to expand the docstring\n",
    "\n",
    "gdf = geopandas.GeoDataFrame(a, geometry=geopandas.points_from_xy(a['u'], a['v']))\n",
    "\n",
    "# There's a nested function in this line too, so let's take a look.\n",
    "# Another way of looking at the docstring is illustrated in the commented line below\n",
    "\n",
    "geopandas.points_from_xy(a['u'], a['v'])\n",
    "#geopandas.points_from_xy?"
   ]
  },
  {
   "cell_type": "markdown",
   "metadata": {},
   "source": [
    "We can infer that `a` is probably some form of Pandas dataframe. We\n",
    "   know this because `GeoDataFrame`&rsquo;s docstring tells us that the\n",
    "   object is a `pandas.DataFrame` that has a column with\n",
    "   geometry. This is a constructor and uses a `pandas.DataFrame` to\n",
    "   build this `GeoDataFrame` object. If you didn&rsquo;t catch that, we are\n",
    "   also given a hint in the `.points_from_xy` function and its\n",
    "   docstring which gives an example that looks suspiciously similar to\n",
    "   this implementation. \n",
    "\n",
    "`u` looks to be $x$-coordinates and `v` looks like it could be\n",
    "$y$-coordinates. We might reasonably guess that these may be\n",
    "coordinates for a map (perhaps longitude and latitude), given that\n",
    "geopandas is a mapping tool.\n",
    "\n"
   ]
  },
  {
   "cell_type": "code",
   "execution_count": 1,
   "metadata": {},
   "outputs": [],
   "source": [
    "# Explore the docstring for .read_file and .get_path\n",
    "world = geopandas.read_file(geopandas.datasets.get_path('naturalearth_lowres'))\n",
    "\n",
    "#geopandas.datasets.available\n",
    "#type(world)\n",
    "#world.head()"
   ]
  },
  {
   "cell_type": "markdown",
   "metadata": {},
   "source": [
    "We see in the next line `world[world.name ===` b]= which is a way of\n",
    "   filtering the `world` dataframe for rows in which the value in\n",
    "   column `name` is equal to some parameter `b`. Looking at\n",
    "   `world.head()`, we can see that the `name` column is filled with what\n",
    "   looks like countries. It might be reasonable to infer that in the\n",
    "   next line (referenced in the code block below), the function is\n",
    "   looking to plot one particular country.\n",
    "\n"
   ]
  },
  {
   "cell_type": "code",
   "execution_count": 1,
   "metadata": {},
   "outputs": [],
   "source": [
    "# Try changing 'b' to 'United Kingdom'\n",
    "ax = world[world.name == b].plot(color='white', edgecolor='gray')"
   ]
  },
  {
   "cell_type": "markdown",
   "metadata": {},
   "source": [
    "The last line we&rsquo;ll run through in depth is the next one. Similar\n",
    "   to before, read the docstring and guess what will happen. We can&rsquo;t\n",
    "   run this cell because we haven&rsquo;t defined gdf properly.\n",
    "\n"
   ]
  },
  {
   "cell_type": "code",
   "execution_count": 1,
   "metadata": {},
   "outputs": [],
   "source": [
    "gdf.plot(ax=ax, color='red',marker='o')"
   ]
  },
  {
   "cell_type": "markdown",
   "metadata": {},
   "source": [
    "Here&rsquo;s the rest of the function for your reference. The remainder\n",
    "   of the lines don&rsquo;t rely on `geopandas`. Rather, they are native to\n",
    "   `python` and `matplotlib` (the latter imported as `plt`, see first\n",
    "   code block above). Check out the docstrings using SHIFT + TAB or ?.\n",
    "\n"
   ]
  },
  {
   "cell_type": "code",
   "execution_count": 1,
   "metadata": {},
   "outputs": [],
   "source": [
    "for i, j, k in zip(df['u'], df['v'], df['t']):\n",
    "    ax.annotate(k, xy=(i,j),xytext=(-16,8), textcoords=\"offset pixels\")\n",
    "\n",
    "plt.title(c)\n",
    "plt.xlabel('x')\n",
    "plt.ylabel('y')\n",
    "plt.show()"
   ]
  },
  {
   "cell_type": "markdown",
   "metadata": {},
   "source": [
    "Our final observations: `c` is a string that is being passed to a\n",
    "   function `title` in the package (aliased as) `plt`.  We can assume\n",
    "   then that `c` is a title of a plot that will inevitably be returned\n",
    "   as shown by the last line `plt.show()`. We also see `df` has a\n",
    "   column `t` that corresponds to some `k`. Upon closer inspection of\n",
    "   `.annotate`, this is a function that takes strings and plots it on\n",
    "   specific points on a map. We can guess that `t` is filled with text\n",
    "   labels of some sort.\n",
    "\n",
    "Let&rsquo;s recap what we think is going on here. This is a function that\n",
    "takes three arguments: dataframe `(a)`, country `(b)`, title\n",
    "`(c)`. This dataframe `a` should have the following columns: `t`\n",
    "(labels), `u` (longitudes or x-coordinates), `v` (latitudes or\n",
    "y-coordinates). We also know that `b` is a country and `c` is the\n",
    "plot title.\n",
    "\n"
   ]
  },
  {
   "cell_type": "code",
   "execution_count": 1,
   "metadata": {},
   "outputs": [],
   "source": [
    "df = pd.DataFrame(\n",
    "    {'t': ['London','Edinburgh','Cardiff','Belfast'],\n",
    "     'u': [-0.1278,-3.1883,-3.1791,-5.9301],\n",
    "     'v': [51.5074,55.9533,51.4816,54.5973]})\n",
    "\n",
    "f(df,'United Kingdom','Capitals of the countries within the United Kingdom')"
   ]
  },
  {
   "cell_type": "markdown",
   "metadata": {},
   "source": [
    "Now that we&rsquo;ve successfully deciphered this function. Let&rsquo;s do\n",
    "   everyone that comes after you a big favor and update the\n",
    "   docstring. Run the next cell to redefine the function with the new\n",
    "   docstring.\n",
    "\n"
   ]
  },
  {
   "cell_type": "code",
   "execution_count": 1,
   "metadata": {},
   "outputs": [],
   "source": [
    "def f(a, b, c):\n",
    "    \"\"\"\n",
    "    This function takes three arguments: dataframe, country, title and returns a plot.\n",
    "    \n",
    "    Parameters\n",
    "    ----------\n",
    "    a : pandas df\n",
    "        Only three columns labeled 't', 'u', 'v'\n",
    "        t = labels (str), u = longitudes (float), v = latitudes (float)\n",
    "    \n",
    "    b : str\n",
    "        Must be an exact match. e.g. United States of America vs. USA.\n",
    "    \n",
    "    c : str\n",
    "        Title of the plot.\n",
    "        \n",
    "    \"\"\"\n",
    "    \n",
    "    gdf = geopandas.GeoDataFrame(a, geometry=geopandas.points_from_xy(a['u'], a['v']))\n",
    "    world = geopandas.read_file(geopandas.datasets.get_path('naturalearth_lowres'))\n",
    "    ax = world[world.name == b].plot(color='white', edgecolor='gray')\n",
    "    gdf.plot(ax=ax, color='red',marker='o')\n",
    "\n",
    "    for i, j, k in zip(df['u'], df['v'], df['t']):\n",
    "        ax.annotate(k, xy=(i,j),xytext=(-16,8), textcoords=\"offset pixels\")\n",
    "\n",
    "    plt.title(c)\n",
    "    plt.xlabel('x')\n",
    "    plt.ylabel('y')\n",
    "    plt.show()"
   ]
  },
  {
   "cell_type": "markdown",
   "metadata": {},
   "source": [
    "The next cell gives you a new map, this time of Canada&rsquo;s provincial\n",
    "   capitals. Try checking out the docstring this time with SHIFT + TAB\n",
    "   or ?.\n",
    "\n"
   ]
  },
  {
   "cell_type": "code",
   "execution_count": 1,
   "metadata": {},
   "outputs": [],
   "source": [
    "df = pd.DataFrame(\n",
    "    {'t': ['Victoria','Whitehorse','Edmonton','Yellowknife','Regina','Winnipeg','Iqaluit','Toronto','Quebec','Fredericton','Halifax','Charlottetown','St. Johns','Ottawa'],\n",
    "     'u': [-123,-135,-113,-114,-105,-97,-69,-79,-71,-67,-64,-56,-53,-76],\n",
    "     'v': [48,61,54,62,50,50,64,44,47,46,45,53,48,45]})\n",
    "\n",
    "f(df, 'Canada', 'Canada\\'s provincial capitals')\n",
    "#f?"
   ]
  },
  {
   "cell_type": "markdown",
   "metadata": {},
   "source": [
    "In this section, we learned how to leverage docstrings to our\n",
    "   advantage when deciphering code and we now know how to make our own\n",
    "   docstrings to help people in the future decipher code we create. \n",
    "\n",
    "Docstrings often align heavily with documentation you can find\n",
    "online. However, navigating the official package documentation may\n",
    "provide you with more code examples or even shed some light on\n",
    "functionalities you may not be aware of. Check out the links below\n",
    "and see what you can find!\n",
    "\n",
    "-   [http://geopandas.org/index.html](http://geopandas.org/index.html)\n",
    "-   [https://matplotlib.org/api/index.html](https://matplotlib.org/api/index.html)\n",
    "\n",
    "Periodically in the code blocks above, we used `#` to denote\n",
    "comments in our code. You can also use these in lieu of docstrings\n",
    "to provide explanation or directions to people who are viewing your\n",
    "code in the future. In the exercises below, we&rsquo;ll ask you to add\n",
    "comments to the function we defined previously.\n",
    "\n"
   ]
  },
  {
   "cell_type": "markdown",
   "metadata": {},
   "source": [
    "### Debugging\n",
    "\n"
   ]
  },
  {
   "cell_type": "markdown",
   "metadata": {},
   "source": [
    "#### Inspecting objects\n",
    "\n"
   ]
  },
  {
   "cell_type": "markdown",
   "metadata": {},
   "source": [
    "A common issue we run into is making false assumptions about an\n",
    "    object and writing code based off this notion of what we believe\n",
    "    the object to be. A simple example is item type (str, float, int,\n",
    "    etc.)\n",
    "\n"
   ]
  },
  {
   "cell_type": "code",
   "execution_count": 1,
   "metadata": {},
   "outputs": [],
   "source": [
    "# Let's go back to the dataframe we created in the first section.\n",
    "chn.head()"
   ]
  },
  {
   "cell_type": "code",
   "execution_count": 1,
   "metadata": {},
   "outputs": [],
   "source": [
    "# Now try to pull the row from 2018, and we'll encounter a TypeError.\n",
    "chn.loc[2018]"
   ]
  },
  {
   "cell_type": "code",
   "execution_count": 1,
   "metadata": {},
   "outputs": [],
   "source": [
    "# Sure enough, upon inspection, we discover it's an index of strings.\n",
    "type(chn.index.values[0])"
   ]
  },
  {
   "cell_type": "code",
   "execution_count": 1,
   "metadata": {},
   "outputs": [],
   "source": [
    "# Let's use a roundabout method to get a new array of dates in integers.\n",
    "new_index = wb.get_dataframe({\"SP.POP.TOTL\":\"Total Population\"},country=\"CHN\").index.astype(int).values\n",
    "new_index"
   ]
  },
  {
   "cell_type": "code",
   "execution_count": 1,
   "metadata": {},
   "outputs": [],
   "source": [
    "# However, when we set the new index, we get a ValueError.\n",
    "chn.index = new_index\n",
    "\n",
    "# Upon inspection, we confirm the different lengths and we can make a quick fix.\n",
    "#len(chn.index), len(new_index)"
   ]
  },
  {
   "cell_type": "markdown",
   "metadata": {},
   "source": [
    "These are simple cases that underscore the importance of\n",
    "   understanding what your objects consist of and what they look like\n",
    "   before you manipulate them. You can save yourself precious\n",
    "   debugging time through a brief inspection of your objects.\n",
    "\n",
    "Helpful inspection functions:\n",
    "\n",
    "-   `type()`\n",
    "-   `df.columns`\n",
    "-   `df.shape`\n",
    "\n"
   ]
  },
  {
   "cell_type": "markdown",
   "metadata": {},
   "source": [
    "#### Interpreting exceptions\n",
    "\n"
   ]
  },
  {
   "cell_type": "markdown",
   "metadata": {},
   "source": [
    "Though we&rsquo;ve seen  `ValueError` and `TypeError`, there are\n",
    "    numerous other errors and exceptions that you may come across over\n",
    "    the course of this class and beyond. These error messages may\n",
    "    provide valuable information to help guide your troubleshooting.\n",
    "\n"
   ]
  },
  {
   "cell_type": "code",
   "execution_count": 1,
   "metadata": {},
   "outputs": [],
   "source": [
    "# Key Error\n",
    "chn.loc[2019]\n",
    "#chn['total population']"
   ]
  },
  {
   "cell_type": "code",
   "execution_count": 1,
   "metadata": {},
   "outputs": [],
   "source": [
    "# Index Error\n",
    "chn.iloc[:,3]\n",
    "#wb.get_dataframe({\"SP.POP.80UP\":\"80+ Population\"},country=\"CHN\")"
   ]
  },
  {
   "cell_type": "code",
   "execution_count": 1,
   "metadata": {},
   "outputs": [],
   "source": [
    "# Name Error\n",
    "np.sum(chn['Total Population'])\n",
    "#wbdata.get_dataframe({\"SP.POP.80UP\":\"80+ Population\"},country=\"CHN\")"
   ]
  },
  {
   "cell_type": "code",
   "execution_count": 1,
   "metadata": {},
   "outputs": [],
   "source": [
    "# Attribute Error\n",
    "chn.name\n",
    "#chn['Total Population'].columns"
   ]
  },
  {
   "cell_type": "code",
   "execution_count": 1,
   "metadata": {},
   "outputs": [],
   "source": [
    "# Syntax Error disguised as something else\n",
    "print(\"The total population of China in\", chn.index.values[0], \"is\", int(chn.loc[chn.index.values[0], \"Total Population\"], \".\"))"
   ]
  },
  {
   "cell_type": "markdown",
   "metadata": {},
   "source": [
    "#### Reading tracebacks\n",
    "\n"
   ]
  },
  {
   "cell_type": "markdown",
   "metadata": {},
   "source": [
    "The last valuable skill to come out of this exercise is the\n",
    "    ability to read tracebacks. When you encounter an error, Python\n",
    "    will return a log of code that Python attempted to run, often\n",
    "    tracing back several functions that will allow you to pinpoint\n",
    "    exactly what went wrong.\n",
    "\n",
    "In this next cell, we introduce a function `twentyfirst_cent_pop`\n",
    "which returns a Pandas dataframe of total population for a\n",
    "particular country and creates a simple line graph if you specify\n",
    "`graph=True`.\n",
    "\n"
   ]
  },
  {
   "cell_type": "code",
   "execution_count": 1,
   "metadata": {},
   "outputs": [],
   "source": [
    "def twentyfirst_cent_pop(cntry_code, graph=False):\n",
    "    variable_labels = {\"SP.POP.TOTL\":\"Total Population\"}\n",
    "    \n",
    "    df = wb.get_dataframe(variable_labels, country=cntry_code)\n",
    "\n",
    "    df.index = df.index.astype(int).values\n",
    "    df = df.loc[2018:2000,]\n",
    "    \n",
    "    if graph:\n",
    "        lines = df.plot.line()\n",
    "        plt.title('Total population of ' + cntry_code + ' over the 21st c.')\n",
    "        plt.xlabel('Year')\n",
    "        plt.ylabel('Population')\n",
    "    return df\n",
    "\n",
    "#Try looking at Ukraine, Russia, Belarus, Hungary, Italy or Greece\n",
    "twentyfirst_cent_pop(\"JPN\",graph=True).head()"
   ]
  },
  {
   "cell_type": "code",
   "execution_count": 1,
   "metadata": {},
   "outputs": [],
   "source": [
    "# What happens if we purposefully break this function?\n",
    "twentyfirst_cent_pop(\"\").head()"
   ]
  },
  {
   "cell_type": "markdown",
   "metadata": {},
   "source": [
    "When we pass an empty string, our function raises a TypeError and\n",
    "   mentions something about a MultiIndex. Using the traceback, we see\n",
    "   that line 5 is having an issue. We know it successfully gets\n",
    "   through the `wb.get_dataframe` statement, and we can verify that by adding a\n",
    "   print statement.\n",
    "\n",
    "Take a look at what `df` is when we pass in an empty string into\n",
    "the function.\n",
    "\n"
   ]
  },
  {
   "cell_type": "code",
   "execution_count": 1,
   "metadata": {},
   "outputs": [],
   "source": [
    "# Here we can see what happens when we pass in an empty string. A similar\n",
    "# behavior is exhibited when we run our function: a MultiIndex with all \n",
    "# countries and years.\n",
    "\n",
    "#wb.search_countries(\"\",display=True)\n",
    "wb.get_dataframe({\"SP.POP.TOTL\":\"Total Population\"}, country=\" \")"
   ]
  },
  {
   "cell_type": "markdown",
   "metadata": {},
   "source": [
    "Now that we&rsquo;ve visualized the problem (MultiIndex instead of a\n",
    "   single-level index), we can develop a fix. We know that we want to\n",
    "   detect a blank input before it gets to the first try\n",
    "   statement. That way, we can raise a more helpful error message\n",
    "   compared to what we saw earlier. Try copy + pasting this into the\n",
    "   function cell right before `try`.\n",
    "\n"
   ]
  },
  {
   "cell_type": "code",
   "execution_count": 1,
   "metadata": {},
   "outputs": [],
   "source": [
    "if len(cntry_code.strip())==0:\n",
    "        raise ValueError('Must input a value!')"
   ]
  },
  {
   "cell_type": "markdown",
   "metadata": {},
   "source": [
    "It will still raise an error, but now there&rsquo;s a helpful message to\n",
    "   the user who may not know how to debug the function themselves. Our\n",
    "   error message directs users to input a value, and hopefully then,\n",
    "   they can get on their way.\n",
    "\n"
   ]
  },
  {
   "cell_type": "markdown",
   "metadata": {},
   "source": [
    "### Test Your Understanding\n",
    "\n"
   ]
  },
  {
   "cell_type": "markdown",
   "metadata": {},
   "source": [
    "1.  Using `pandas` and `gspread-dataframe`, each team should submit\n",
    "    their attendance by sharing a spreadsheet with the following\n",
    "    columns: First Name, Last Name, E-mail. Share your spreadsheet\n",
    "    with `jnuesca@berkeley.edu` and `ligon@berkeley.edu`.\n",
    "    1.  Write a docstring for `twentyfirst_cent_pop`. Follow the\n",
    "        template from function `f` in Section 2.\n",
    "    \n",
    "    2.  See below for debugging exercises\n",
    "\n"
   ]
  },
  {
   "cell_type": "code",
   "execution_count": 1,
   "metadata": {},
   "outputs": [],
   "source": [
    "# Fix the NameError\n",
    "pd.DataFrame(data={'Growth Rate':np.diff(np.log(chn['Total Population'][::-1]))}).plot.line();\n",
    "plt.title('Population Growth Rate of China from 1960-present');\n",
    "\n",
    "# Fix the TypeError such that this line works\n",
    "chn.loc[2018:2009,]"
   ]
  }
 ],
 "metadata": {
  "kernelspec": {
   "display_name": "Python 3",
   "language": "python",
   "name": "python3"
  },
  "language_info": {
   "codemirror_mode": {
    "name": "ipython",
    "version": 3
   },
   "file_extension": ".py",
   "mimetype": "text/x-python",
   "name": "python",
   "nbconvert_exporter": "python",
   "pygments_lexer": "ipython3",
   "version": "3.7.4"
  },
  "org": null
 },
 "nbformat": 4,
 "nbformat_minor": 1
}
