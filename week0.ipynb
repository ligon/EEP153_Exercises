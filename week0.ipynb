version https://git-lfs.github.com/spec/v1
oid sha256:b5d228a9f8ddce20131a76b9543456283ff2f3ffa7f4df3633c98e5e91fbf421
size 4616
