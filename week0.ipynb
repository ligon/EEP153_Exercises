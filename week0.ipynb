version https://git-lfs.github.com/spec/v1
oid sha256:e242b73dce34b0b66c65a66ce41e0d775e0d4067775cdabd9e5c7408ce9ab71e
size 4554
